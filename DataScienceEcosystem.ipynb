{
 "cells": [
  {
   "cell_type": "markdown",
   "id": "24c0d23e-94fc-4e3e-a385-96a9f6ab7178",
   "metadata": {},
   "source": [
    "# Data Science Tools and Ecosystem"
   ]
  },
  {
   "cell_type": "markdown",
   "id": "0f640a84-fa52-44c4-b63a-927768595151",
   "metadata": {},
   "source": [
    "In this notebook, Data Science Tools and Ecosystem are summarized."
   ]
  },
  {
   "cell_type": "markdown",
   "id": "24e3a5cd-c569-4c1b-a71a-21f30a015ff3",
   "metadata": {},
   "source": [
    "OBJECTIVES: \n",
    "-Languages used by data scientists\n",
    "-Libraries used by data scientists \n",
    "-data science tools\n",
    "-simple arthimetic expressions"
   ]
  },
  {
   "cell_type": "markdown",
   "id": "482edddf-a82c-46e1-8e3c-a7a43937636a",
   "metadata": {},
   "source": [
    "Some of the popular languages that Data Scientists use are:"
   ]
  },
  {
   "cell_type": "markdown",
   "id": "9d730a08-8fcc-4c47-89cb-626730712189",
   "metadata": {},
   "source": [
    "1.SQL\n",
    "2.R\n",
    "3.Julia"
   ]
  },
  {
   "cell_type": "markdown",
   "id": "ccd2e8a6-cc6c-4e41-8cda-f2b77bea6dc9",
   "metadata": {},
   "source": [
    "Some of the commonly used libraries used by Data Scientists include:"
   ]
  },
  {
   "cell_type": "markdown",
   "id": "51d8aa05-28d8-463f-bae7-deb4ea7bc75c",
   "metadata": {},
   "source": [
    "1.Tensorflow\n",
    "2.NumPy\n",
    "3.Pandas"
   ]
  },
  {
   "cell_type": "markdown",
   "id": "91539edb-1479-46e4-9e40-29e78a7bdd97",
   "metadata": {},
   "source": [
    "| Data Science Tools|\n",
    "| -----------------|  \n",
    "|Jupyter Notebook| \n",
    "|RStudio| \n",
    "|Visual Studio Code|"
   ]
  },
  {
   "cell_type": "markdown",
   "id": "621547a8-4a4b-4eaf-bb54-4a4532b4bc03",
   "metadata": {},
   "source": [
    "### H3: Below are a few examples of evaluating arithmetic expressions in Python"
   ]
  },
  {
   "cell_type": "code",
   "execution_count": null,
   "id": "43a32ddf-256a-4d08-9453-82c590468808",
   "metadata": {},
   "outputs": [],
   "source": [
    "#This a simple arithmetic expression to mutiply then add integers\n",
    "(3*4)+5\n"
   ]
  },
  {
   "cell_type": "code",
   "execution_count": null,
   "id": "47a31450-73ab-499d-873c-e19e260d66bd",
   "metadata": {},
   "outputs": [],
   "source": [
    "#This will convert 200 minutes to hours by diving by 60\n",
    "200/60\n"
   ]
  },
  {
   "cell_type": "markdown",
   "id": "0fa94dbf-08ac-41d9-a649-c69642e791bd",
   "metadata": {},
   "source": [
    "AUTHOR :\n",
    "## H2 : Kummarapurugu D S V V Satyanarayana Murthy"
   ]
  },
  {
   "cell_type": "code",
   "execution_count": null,
   "id": "6e839eff-db2c-4c2e-8261-66e351c5c686",
   "metadata": {},
   "outputs": [],
   "source": []
  }
 ],
 "metadata": {
  "kernelspec": {
   "display_name": "Python 3 (ipykernel)",
   "language": "python",
   "name": "python3"
  },
  "language_info": {
   "codemirror_mode": {
    "name": "ipython",
    "version": 3
   },
   "file_extension": ".py",
   "mimetype": "text/x-python",
   "name": "python",
   "nbconvert_exporter": "python",
   "pygments_lexer": "ipython3",
   "version": "3.12.8"
  }
 },
 "nbformat": 4,
 "nbformat_minor": 5
}
